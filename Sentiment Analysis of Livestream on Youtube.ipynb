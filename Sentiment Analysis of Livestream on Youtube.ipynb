{
 "cells": [
  {
   "cell_type": "code",
   "execution_count": 1,
   "metadata": {},
   "outputs": [
    {
     "name": "stdout",
     "output_type": "stream",
     "text": [
      "Requirement already satisfied: mysql-connector in c:\\users\\pwatc\\anaconda3\\lib\\site-packages (2.2.9)\n"
     ]
    }
   ],
   "source": [
    "!pip install mysql-connector"
   ]
  },
  {
   "cell_type": "code",
   "execution_count": 4,
   "metadata": {},
   "outputs": [
    {
     "name": "stderr",
     "output_type": "stream",
     "text": [
      "No model was supplied, defaulted to distilbert-base-uncased-finetuned-sst-2-english and revision af0f99b (https://huggingface.co/distilbert-base-uncased-finetuned-sst-2-english).\n",
      "Using a pipeline without specifying a model name and revision in production is not recommended.\n"
     ]
    },
    {
     "name": "stdout",
     "output_type": "stream",
     "text": [
      "authort: ทอมมี่ อิสรินทร์ sent: เจ้าคือน่านตายแท้ย่าย score: 0.6970565319061279 sentiment: NEGATIVE\n",
      "Saved to Database\n",
      "authort: เด่น ปืนใหญ่ sent: เศรษฐกิจแบบนี้ เงินเดือน 3 หมื่น ก็ใช้ได้ มันต้องทำงานเพื่อแลกเงิน:money_bag::money_bag::money_bag::money_with_wings::money_with_wings::face_with_hand_over_mouth::face_with_hand_over_mouth: score: 0.9897637367248535 sentiment: NEGATIVE\n",
      "Saved to Database\n",
      "authort: y11 y11 sent: คุณลีน่าถูกกระทำ:expressionless_face: score: 0.9995933175086975 sentiment: NEGATIVE\n",
      "Saved to Database\n",
      "authort: Mekalone Watcharakorn sent: สวัสดีครับ score: 0.6970565319061279 sentiment: NEGATIVE\n",
      "Saved to Database\n",
      "authort: y11 y11 sent: เด่น:expressionless_face: score: 0.9995933175086975 sentiment: NEGATIVE\n",
      "Saved to Database\n",
      "authort: Mekalone Watcharakorn sent: hello score: 0.9995185136795044 sentiment: POSITIVE\n",
      "Saved to Database\n",
      "authort: เด่น ปืนใหญ่ sent: y 11 :beaming_face_with_smiling_eyes::face_with_hand_over_mouth: score: 0.9996330738067627 sentiment: POSITIVE\n",
      "Saved to Database\n",
      "authort: Ngamiki sent: ท้อปบูทมีไม่ยอมใส่ เข้ากะชุด score: 0.7850595712661743 sentiment: NEGATIVE\n",
      "Saved to Database\n",
      "authort: Mekalone Watcharakorn sent: good news score: 0.9998592138290405 sentiment: POSITIVE\n",
      "Saved to Database\n",
      "authort: y11 y11 sent: มิต้องให้ ให้คนที่มีนด่าเรานุ้นเป็นคนจ่าย:person_shrugging: score: 0.9939464926719666 sentiment: NEGATIVE\n",
      "Saved to Database\n",
      "authort: Ngamiki sent: เรดวิง คือมะ score: 0.7850595712661743 sentiment: NEGATIVE\n",
      "Saved to Database\n",
      "authort: y11 y11 sent: เบื่อว่ะนักข่าวสมัยนี้ ยังมิทันรุ้ห่าไรจริงๆก็ชอบประจาน:face_with_steam_from_nose: score: 0.9901350140571594 sentiment: NEGATIVE\n",
      "Saved to Database\n",
      "authort: Mekalone Watcharakorn sent: nice score: 0.9998552799224854 sentiment: POSITIVE\n",
      "Saved to Database\n",
      "authort: momom momom sent: เจ้าของคนไทย แต่คนไทยตกรอบแรก ตอนซื้อขายขายหลอกติ่ง 555++ score: 0.860632061958313 sentiment: POSITIVE\n",
      "Saved to Database\n",
      "authort: y11 y11 sent: อย่าว่าคุณแอน อย่าหาทำเด้วโดนเด้วโดน:grimacing_face: score: 0.9988062381744385 sentiment: NEGATIVE\n",
      "Saved to Database\n",
      "authort: Mekalone Watcharakorn sent: have a good day,guy score: 0.9998666048049927 sentiment: POSITIVE\n",
      "Saved to Database\n",
      "authort: Mekalone Watcharakorn sent: :smiling_face_with_smiling_eyes: score: 0.9998455047607422 sentiment: POSITIVE\n",
      "Saved to Database\n",
      "authort: Mekalone Watcharakorn sent: :hand-pink-waving: score: 0.6034975647926331 sentiment: POSITIVE\n",
      "Saved to Database\n",
      "authort: Mekalone Watcharakorn sent: เก่งแบบนี้น่าจะส่งไปรบ score: 0.6970565319061279 sentiment: NEGATIVE\n",
      "Saved to Database\n",
      "authort: Ngamiki sent: เเครอทหวาน น้ำต้ม score: 0.7850595712661743 sentiment: NEGATIVE\n",
      "Saved to Database\n",
      "authort: Fjfg Gjfhf sent: เมาชัว score: 0.6970565319061279 sentiment: NEGATIVE\n",
      "Saved to Database\n",
      "authort: Ngamiki sent: ต้มซด เเบบโสม score: 0.7850595712661743 sentiment: NEGATIVE\n",
      "Saved to Database\n",
      "authort: ขอบคุณค่ะ🙏🏻 sent: ใหญ่มาจากไหน:thinking_face: score: 0.9874768853187561 sentiment: POSITIVE\n",
      "Saved to Database\n",
      "authort: รัสมี โอภาส sent: ถ้าข้าราชการจริงอะเขาไม่หนีหรอกเขาไม่พูดจาเเบบนี้หรอก:thinking_face: score: 0.9874768853187561 sentiment: POSITIVE\n",
      "Saved to Database\n",
      "authort: Kongkiat Wongsaman sent: พูดยากนักเลง score: 0.6970565319061279 sentiment: NEGATIVE\n",
      "Saved to Database\n",
      "authort: Ngamiki sent: ไล่ฆ่ากันอาข่า เปนไร score: 0.7850595712661743 sentiment: NEGATIVE\n",
      "Saved to Database\n",
      "authort: ขอบคุณค่ะ🙏🏻 sent: อ่อออออเค้าคิดถึงเสี่ยดิทำไมต้องเป่า score: 0.6970565319061279 sentiment: NEGATIVE\n",
      "Saved to Database\n",
      "authort: Fjfg Gjfhf sent: ลงวินัยเลย score: 0.549099326133728 sentiment: POSITIVE\n",
      "Saved to Database\n",
      "authort: Ngamiki sent: เยอะมะเกินห้าสิบ เลือกสส score: 0.8201996088027954 sentiment: POSITIVE\n",
      "Saved to Database\n",
      "authort: doorthai yaiuodom sent: :shushing_face: ปลั๊กไฟ 3 ตา ดูดเงิน มาแล้วน๊ะ ระวังด้วยอ่ะ:shushing_face::shushing_face::astonished_face::flushed_face::face_screaming_in_fear: score: 0.9933295845985413 sentiment: NEGATIVE\n",
      "Saved to Database\n",
      "authort: ขอบคุณค่ะ🙏🏻 sent: อ่อออออสายช๊าสสใช่มั้ยเขียว score: 0.6970565319061279 sentiment: NEGATIVE\n",
      "Saved to Database\n",
      "authort: อนาคต คนไทย sent: พวกเล่นเกมส์มีโอกาสเงินหาย score: 0.6970565319061279 sentiment: NEGATIVE\n",
      "Saved to Database\n",
      "authort: Ch-Miu sent: อะไรคือความปลอดภัยของธนาคาร score: 0.6970565319061279 sentiment: NEGATIVE\n",
      "Saved to Database\n"
     ]
    }
   ],
   "source": [
    "import pytchat\n",
    "import mysql.connector\n",
    "from transformers import pipeline\n",
    "#from colorama import Fore,Style\n",
    "\n",
    "def insertMySql(datetime,author,message,sentiment,score,ct_sentiment,ct_comment):\n",
    "\n",
    "    cnx = mysql.connector.connect(user='sql6589589', password='DDFzTtZehi',host='sql6.freesqldatabase.com',database='sql6589589')\n",
    "\n",
    "    cursor = cnx.cursor()\n",
    "\n",
    "    add_record = (\"INSERT INTO youtube_liveChat \"\n",
    "                \"( datetime, author, message, sentiment, score, ct_sentiment, ct_comment) \"\n",
    "                \"VALUES ( '\"+datetime+\"', '\"+author+\"', '\"+message+\"', '\"+sentiment+\"', '\"+score+\"','\"+ct_sentiment+\"','\"+ct_comment+\"')\")\n",
    "    \n",
    "\n",
    "    # Insert new employee\n",
    "    cursor.execute(add_record)\n",
    "    \n",
    "    cnx.commit()\n",
    "\n",
    "    cursor.close()\n",
    "    cnx.close()   \n",
    "    print(\"Saved to Database\") \n",
    "\n",
    "\n",
    "def main():\n",
    "\n",
    "    classifier = pipeline('sentiment-analysis')\n",
    "\n",
    "    chat = pytchat.create(video_id=\"LCb27GWfK6o\")\n",
    "\n",
    "    x=1\n",
    "    y=1\n",
    "    z=1\n",
    "\n",
    "    while chat.is_alive():\n",
    "        for c in chat.get().sync_items():\n",
    "            #print(f'{c.datetime} {c.author.name} {c.message}')\n",
    "            sentiment = classifier(c.message)\n",
    "            mylist = sentiment[0]\n",
    "            score = mylist['score']\n",
    "            sentclass = mylist['label']\n",
    "            \n",
    "            if(sentclass == \"NEGATIVE\"):\n",
    "                print(f'authort: {c.author.name} sent: {c.message} score: {score} sentiment: {sentclass}')\n",
    "                insertMySql(str(c.datetime), str(c.author.name), str(c.message), str(sentclass), str(score), str(x), str(z))\n",
    "                x += 1\n",
    "            else:\n",
    "                print(f'authort: {c.author.name} sent: {c.message} score: {score} sentiment: {sentclass}')\n",
    "                insertMySql(str(c.datetime), str(c.author.name), str(c.message), str(sentclass), str(score), str(y), str(z))\n",
    "                y += 1\n",
    "            z += 1\n",
    "\n",
    "if __name__ == \"__main__\":\n",
    "    main()"
   ]
  }
 ],
 "metadata": {
  "kernelspec": {
   "display_name": "base",
   "language": "python",
   "name": "python3"
  },
  "language_info": {
   "codemirror_mode": {
    "name": "ipython",
    "version": 3
   },
   "file_extension": ".py",
   "mimetype": "text/x-python",
   "name": "python",
   "nbconvert_exporter": "python",
   "pygments_lexer": "ipython3",
   "version": "3.9.13"
  },
  "orig_nbformat": 4,
  "vscode": {
   "interpreter": {
    "hash": "eca37371e4b69d98c26c302ff6f412bc6af1cec1481adf8311c8fd80fa2a82b4"
   }
  }
 },
 "nbformat": 4,
 "nbformat_minor": 2
}
